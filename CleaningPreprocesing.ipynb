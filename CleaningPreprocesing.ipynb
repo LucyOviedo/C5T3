{
 "cells": [
  {
   "cell_type": "code",
   "execution_count": 27,
   "metadata": {},
   "outputs": [],
   "source": [
    "#numpy,pandas,scipy, math, matplotlib\n",
    "import pandas as pd\n",
    "import matplotlib.pyplot as plt\n",
    "import seaborn as sns\n",
    "import scipy\n",
    "from math import sqrt"
   ]
  },
  {
   "cell_type": "code",
   "execution_count": 30,
   "metadata": {},
   "outputs": [],
   "source": [
    "##################################################\n",
    "##         Import and Prepare the Data          ##\n",
    "##################################################\n",
    "\n",
    "rawDefaultCredit= pd.read_csv('dataset/default of credit card clients.csv', header =1)\n",
    "\n",
    "# Data and Text Cleaning\n",
    "\n",
    "# ID: represents the number of the observation and has no value, needs to get removed\n",
    "rawDefaultCredit= rawDefaultCredit.drop(\"ID\", axis=1)\n",
    "\n",
    "# PAY_0 should be renamed PAY_1\n",
    "# (the inplace parameter will change the dataframe without assignment)\n",
    "rawDefaultCredit.rename(columns={\"PAY_0\": \"PAY_1\"}, inplace=True)\n",
    "\n",
    "# Default Payment next month (not standard name needs to get renamed)\n",
    "rawDefaultCredit.rename(columns={\"default payment next month\": \"DEFAULT\"}, inplace=True)\n",
    "\n",
    "# Replace 4, 5, 6 to 0 to unify others to one unique value\n",
    "rawDefaultCredit['EDUCATION'].replace([0, 5, 6], [4, 4, 4], inplace=True)\n",
    "\n",
    "rawDefaultCredit.to_csv('dataset/rawDefaultCreditCardClients.csv')"
   ]
  },
  {
   "cell_type": "code",
   "execution_count": 31,
   "metadata": {},
   "outputs": [
    {
     "name": "stdout",
     "output_type": "stream",
     "text": [
      "<class 'pandas.core.frame.DataFrame'>\n",
      "RangeIndex: 30000 entries, 0 to 29999\n",
      "Data columns (total 24 columns):\n",
      " #   Column     Non-Null Count  Dtype\n",
      "---  ------     --------------  -----\n",
      " 0   LIMIT_BAL  30000 non-null  int64\n",
      " 1   SEX        30000 non-null  int64\n",
      " 2   EDUCATION  30000 non-null  int64\n",
      " 3   MARRIAGE   30000 non-null  int64\n",
      " 4   AGE        30000 non-null  int64\n",
      " 5   PAY_1      30000 non-null  int64\n",
      " 6   PAY_2      30000 non-null  int64\n",
      " 7   PAY_3      30000 non-null  int64\n",
      " 8   PAY_4      30000 non-null  int64\n",
      " 9   PAY_5      30000 non-null  int64\n",
      " 10  PAY_6      30000 non-null  int64\n",
      " 11  BILL_AMT1  30000 non-null  int64\n",
      " 12  BILL_AMT2  30000 non-null  int64\n",
      " 13  BILL_AMT3  30000 non-null  int64\n",
      " 14  BILL_AMT4  30000 non-null  int64\n",
      " 15  BILL_AMT5  30000 non-null  int64\n",
      " 16  BILL_AMT6  30000 non-null  int64\n",
      " 17  PAY_AMT1   30000 non-null  int64\n",
      " 18  PAY_AMT2   30000 non-null  int64\n",
      " 19  PAY_AMT3   30000 non-null  int64\n",
      " 20  PAY_AMT4   30000 non-null  int64\n",
      " 21  PAY_AMT5   30000 non-null  int64\n",
      " 22  PAY_AMT6   30000 non-null  int64\n",
      " 23  DEFAULT    30000 non-null  int64\n",
      "dtypes: int64(24)\n",
      "memory usage: 5.5 MB\n"
     ]
    }
   ],
   "source": [
    "#How to deal with missing values? No missing values found\n",
    "rawDefaultCredit.isnull().values.any()\n",
    "rawDefaultCredit.info()\n"
   ]
  },
  {
   "cell_type": "code",
   "execution_count": 25,
   "metadata": {},
   "outputs": [],
   "source": [
    "defaultCredit = rawDefaultCredit\n",
    "defaultCredit['SEX'] = defaultCredit['SEX'].astype('category')\n",
    "\n",
    "# Education (1 = graduate school; 2 = university; 3 = high school; 4 = others).\n",
    "defaultCredit['EDUCATION'] = defaultCredit['EDUCATION'].astype('category')\n",
    "\n",
    "# 1 = married; 2 = single; 3 = divorce; 0=others\n",
    "defaultCredit['MARRIAGE'] = defaultCredit['MARRIAGE'].astype('category')\n",
    "\n",
    "# The measurement scale for the repayment status is:\n",
    "# -2: No consumption; \n",
    "#-1: Paid in full; \n",
    "# 0: The use of revolving credit; \n",
    "# 1 = payment delay for one month; \n",
    "# 2 = payment delay for two months; . . .; \n",
    "# 8 = payment delay for eight months; \n",
    "# 9 = payment delay for nine months and above.\n",
    "defaultCredit['PAY_1'] = defaultCredit['PAY_1'].astype('category')\n",
    "defaultCredit['PAY_2'] = defaultCredit['PAY_2'].astype('category')\n",
    "defaultCredit['PAY_3'] = defaultCredit['PAY_3'].astype('category')\n",
    "defaultCredit['PAY_4'] = defaultCredit['PAY_4'].astype('category')\n",
    "defaultCredit['PAY_5'] = defaultCredit['PAY_5'].astype('category')\n",
    "defaultCredit['PAY_6'] = defaultCredit['PAY_6'].astype('category')\n",
    "\n",
    "\n",
    "# Y: client's behavior; Y=0 then not default, Y=1 then default\"\n",
    "defaultCredit['DEFAULT'] = defaultCredit['DEFAULT'].astype('category')\n"
   ]
  },
  {
   "cell_type": "code",
   "execution_count": 26,
   "metadata": {},
   "outputs": [],
   "source": [
    "defaultCredit.to_csv('dataset/defaultCreditCardClients.csv')"
   ]
  },
  {
   "cell_type": "code",
   "execution_count": null,
   "metadata": {},
   "outputs": [],
   "source": [
    "defaultCredit['SEX'] = defaultCredit['SEX'].astype('category')\n",
    "defaultCredit['EDUCATION'] = defaultCredit['EDUCATION'].astype('category')\n",
    "defaultCredit['MARRIAGE'] = defaultCredit['MARRIAGE'].astype('category')\n",
    "defaultCredit['PAY_1'] = defaultCredit['PAY_1'].astype('category')\n",
    "defaultCredit['PAY_2'] = defaultCredit['PAY_2'].astype('category')\n",
    "defaultCredit['PAY_3'] = defaultCredit['PAY_3'].astype('category')\n",
    "defaultCredit['PAY_4'] = defaultCredit['PAY_4'].astype('category')\n",
    "defaultCredit['PAY_5'] = defaultCredit['PAY_5'].astype('category')\n",
    "defaultCredit['PAY_6'] = defaultCredit['PAY_6'].astype('category')\n",
    "defaultCredit['DEFAULT'] = defaultCredit['DEFAULT'].astype('category')"
   ]
  }
 ],
 "metadata": {
  "kernelspec": {
   "display_name": "Python 3",
   "language": "python",
   "name": "python3"
  },
  "language_info": {
   "codemirror_mode": {
    "name": "ipython",
    "version": 3
   },
   "file_extension": ".py",
   "mimetype": "text/x-python",
   "name": "python",
   "nbconvert_exporter": "python",
   "pygments_lexer": "ipython3",
   "version": "3.7.6"
  }
 },
 "nbformat": 4,
 "nbformat_minor": 4
}
