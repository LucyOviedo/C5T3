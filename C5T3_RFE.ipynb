{
 "cells": [
  {
   "cell_type": "code",
   "execution_count": 2,
   "metadata": {},
   "outputs": [],
   "source": [
    "#numpy,pandas,scipy, math, matplotlib\n",
    "import numpy as np\n",
    "import pandas as pd\n",
    "import matplotlib.pyplot as plt\n",
    "import seaborn as sns\n",
    "import scipy\n",
    "from math import sqrt\n",
    "\n",
    "#model metrics\n",
    "from sklearn.metrics import accuracy_score, log_loss\n",
    "from sklearn.metrics import classification_report\n",
    "\n",
    "#cross validation\n",
    "from sklearn.model_selection import train_test_split\n",
    "from sklearn.model_selection import cross_val_score\n",
    "\n",
    "from sklearn.linear_model import LogisticRegression\n",
    "from sklearn.discriminant_analysis import LinearDiscriminantAnalysis\n",
    "from sklearn.neighbors import KNeighborsClassifier\n",
    "from sklearn.naive_bayes import GaussianNB\n",
    "from sklearn.tree import DecisionTreeClassifier\n",
    "from sklearn.svm import SVC\n",
    "\n",
    "\n",
    "# Estimators\n",
    "from sklearn.neighbors import KNeighborsClassifier\n",
    "from sklearn.svm import SVC, LinearSVC, NuSVC\n",
    "from sklearn.tree import DecisionTreeClassifier\n",
    "from sklearn.ensemble import RandomForestClassifier, AdaBoostClassifier, GradientBoostingClassifier\n",
    "from sklearn.naive_bayes import GaussianNB\n",
    "from sklearn.discriminant_analysis import LinearDiscriminantAnalysis\n",
    "from sklearn.discriminant_analysis import QuadraticDiscriminantAnalysis\n",
    "from sklearn.neural_network import MLPClassifier\n",
    "\n",
    "# RFE \n",
    "from sklearn.feature_selection import RFECV\n",
    "from sklearn.model_selection import StratifiedKFold\n",
    "\n",
    "#Hot encoder\n",
    "from sklearn.preprocessing import LabelEncoder, OneHotEncoder"
   ]
  },
  {
   "cell_type": "code",
   "execution_count": 28,
   "metadata": {},
   "outputs": [],
   "source": [
    "\n",
    "def generate_accuracy_and_heatmap(model, x, y):\n",
    "#     cm = confusion_matrix(y,model.predict(x))\n",
    "#     sns.heatmap(cm,annot=True,fmt=\"d\")\n",
    "    name = model.__class__.__name__\n",
    "    train_pred = model.predict(x)\n",
    "    \n",
    "    ac = accuracy_score(y,train_pred)\n",
    "    print('Accuracy is: ', ac)\n",
    "    \n",
    "    class_rep = classification_report(y,train_pred)\n",
    "    print(\"Classification Report:\\n\",class_rep)\n",
    "    \n",
    "    score = model.score(x ,y)\n",
    "    print('score is: ', score)\n",
    "    \n",
    "    cross_val = cross_val_score(model, x, np.ravel(y))\n",
    "    print(\"Cross Validation: {}\",cross_val)\n",
    "    \n",
    "    print (\"\\n\")\n",
    "    print (pd.crosstab(pd.Series(train_pred, name='Predicted'),\n",
    "                       pd.Series(y['DEFAULT'],name='DEFAULT')))\n",
    "    return 1"
   ]
  },
  {
   "cell_type": "code",
   "execution_count": 4,
   "metadata": {},
   "outputs": [],
   "source": [
    "\n",
    "##################################################\n",
    "##         Import and Prepare the Data          ##\n",
    "##################################################\n",
    "\n",
    "defaultCredit= pd.read_csv('dataset/defaultCreditCardClients.csv')\n",
    "defaultCredit = defaultCredit.drop(defaultCredit.columns[0], axis=1)\n",
    "#defaultCredit.info()\n",
    "\n",
    "\n",
    "defaultCredit['DEFAULT'] = defaultCredit['DEFAULT'].astype('category')"
   ]
  },
  {
   "cell_type": "code",
   "execution_count": 5,
   "metadata": {},
   "outputs": [],
   "source": [
    "defaultCredit['SEX'] = defaultCredit['SEX'].astype('category')\n",
    "defaultCredit['EDUCATION'] = defaultCredit['EDUCATION'].astype('category')\n",
    "defaultCredit['MARRIAGE'] = defaultCredit['MARRIAGE'].astype('category')\n",
    "defaultCredit['PAY_1'] = defaultCredit['PAY_1'].astype('category')\n",
    "defaultCredit['PAY_2'] = defaultCredit['PAY_2'].astype('category')\n",
    "defaultCredit['PAY_3'] = defaultCredit['PAY_3'].astype('category')\n",
    "defaultCredit['PAY_4'] = defaultCredit['PAY_4'].astype('category')\n",
    "defaultCredit['PAY_5'] = defaultCredit['PAY_5'].astype('category')\n",
    "defaultCredit['PAY_6'] = defaultCredit['PAY_6'].astype('category')"
   ]
  },
  {
   "cell_type": "code",
   "execution_count": 78,
   "metadata": {},
   "outputs": [],
   "source": [
    "# RFE Do now run again\n",
    "# https://www.youtube.com/watch?v=xlHk4okO8Ls\n",
    "target = 'DEFAULT'\n",
    "X = defaultCredit.loc[:, defaultCredit.columns != target]\n",
    "Y = defaultCredit.loc[:, defaultCredit.columns == target]\n",
    "#X.shape\n",
    "#Y.shape\n",
    "\n",
    "clf = RandomForestClassifier(max_depth=10, n_estimators=50, max_features=1)\n",
    "x_train, x_test, y_train, y_test = train_test_split(X, Y, test_size=0.25, random_state=123)"
   ]
  },
  {
   "cell_type": "code",
   "execution_count": 79,
   "metadata": {},
   "outputs": [],
   "source": [
    "rfecv = RFECV(estimator=clf, step=1, cv=10, scoring='accuracy')\n",
    "rfecv = rfecv.fit(x_train, np.ravel(y_train))\n"
   ]
  },
  {
   "cell_type": "code",
   "execution_count": 80,
   "metadata": {},
   "outputs": [
    {
     "name": "stdout",
     "output_type": "stream",
     "text": [
      "Optimal number of features:  6\n",
      "Best features:  Index(['PAY_1', 'PAY_2', 'PAY_3', 'PAY_4', 'BILL_AMT2', 'PAY_AMT1'], dtype='object')\n"
     ]
    }
   ],
   "source": [
    "print('Optimal number of features: ',rfecv.n_features_)\n",
    "print('Best features: ', x_train.columns[rfecv.support_])\n"
   ]
  },
  {
   "cell_type": "code",
   "execution_count": 81,
   "metadata": {},
   "outputs": [
    {
     "name": "stdout",
     "output_type": "stream",
     "text": [
      "[[1 2 3 2 63007 5200]\n",
      " [0 0 0 -2 9378 1000]\n",
      " [-1 0 -1 -1 13050 1105]\n",
      " ...\n",
      " [0 0 0 0 48381 2002]\n",
      " [0 0 0 0 28530 2000]\n",
      " [-2 -2 -2 -2 25790 25794]]\n"
     ]
    }
   ],
   "source": [
    "x_train_rfecv = rfecv.transform(x_train)\n",
    "x_test_rfecv = rfecv.transform(x_test)\n",
    "\n",
    "print(x_train_rfecv)"
   ]
  },
  {
   "cell_type": "code",
   "execution_count": 82,
   "metadata": {},
   "outputs": [
    {
     "name": "stdout",
     "output_type": "stream",
     "text": [
      "Accuracy is:  0.8208\n",
      "Classification Report:\n",
      "               precision    recall  f1-score   support\n",
      "\n",
      "           0       0.84      0.95      0.89      5873\n",
      "           1       0.66      0.37      0.47      1627\n",
      "\n",
      "    accuracy                           0.82      7500\n",
      "   macro avg       0.75      0.66      0.68      7500\n",
      "weighted avg       0.80      0.82      0.80      7500\n",
      "\n",
      "score is:  0.8208\n",
      "Cross Validation: {} [0.82266667 0.80933333 0.808      0.822      0.80133333]\n",
      "\n",
      "\n",
      "DEFAULT       0    1\n",
      "Predicted           \n",
      "0          1269  342\n",
      "1           201   42\n"
     ]
    },
    {
     "data": {
      "text/plain": [
       "1"
      ]
     },
     "execution_count": 82,
     "metadata": {},
     "output_type": "execute_result"
    }
   ],
   "source": [
    "rfecv_model = clf.fit(x_train_rfecv, np.ravel(y_train))\n",
    "generate_accuracy_and_heatmap(rfecv_model, x_test_rfecv, y_test)"
   ]
  },
  {
   "cell_type": "code",
   "execution_count": 83,
   "metadata": {},
   "outputs": [
    {
     "data": {
      "image/png": "[encoded data removed]",
      "text/plain": [
       "<Figure size 1152x648 with 1 Axes>"
      ]
     },
     "metadata": {
      "needs_background": "light"
     },
     "output_type": "display_data"
    }
   ],
   "source": [
    "plt.figure(figsize=(16, 9))\n",
    "plt.title('Recursive Feature Elimination with Cross-Validation', fontsize=18, fontweight='bold', pad=20)\n",
    "plt.xlabel('Number of features selected', fontsize=14, labelpad=20)\n",
    "plt.ylabel('% Correct Classification', fontsize=14, labelpad=20)\n",
    "plt.plot(range(1, len(rfecv.grid_scores_) + 1), rfecv.grid_scores_, color='#303F9F', linewidth=3)\n",
    "plt.show()"
   ]
  },
  {
   "cell_type": "code",
   "execution_count": 84,
   "metadata": {},
   "outputs": [
    {
     "data": {
      "image/png": "[encoded data removed]",
      "text/plain": [
       "<Figure size 1152x1008 with 1 Axes>"
      ]
     },
     "metadata": {
      "needs_background": "light"
     },
     "output_type": "display_data"
    }
   ],
   "source": [
    "dset = pd.DataFrame()\n",
    "dset['attr'] = x_train.columns[np.where(rfecv.support_ == True)[0]]\n",
    "dset['importance'] = rfecv.estimator_.feature_importances_\n",
    "dset = dset.sort_values(by='importance', ascending=False)\n",
    "dset\n",
    "\n",
    "plt.figure(figsize=(16, 14))\n",
    "plt.barh(y=dset['attr'], width=dset['importance'], color='#1976D2')\n",
    "plt.title('RFECV - Feature Importances', fontsize=20, fontweight='bold', pad=20)\n",
    "plt.xlabel('Importance', fontsize=14, labelpad=20)\n",
    "plt.show()"
   ]
  },
  {
   "cell_type": "code",
   "execution_count": 85,
   "metadata": {},
   "outputs": [],
   "source": [
    "x_train_rfecv = rfecv.transform(x_train)\n",
    "x_test_rfecv = rfecv.transform(x_test)\n"
   ]
  },
  {
   "cell_type": "code",
   "execution_count": 86,
   "metadata": {},
   "outputs": [],
   "source": [
    "rfecv_model = clf.fit(x_train_rfecv, np.ravel(y_train))"
   ]
  },
  {
   "cell_type": "code",
   "execution_count": 87,
   "metadata": {},
   "outputs": [
    {
     "name": "stdout",
     "output_type": "stream",
     "text": [
      "Accuracy is:  0.8192\n",
      "Classification Report:\n",
      "               precision    recall  f1-score   support\n",
      "\n",
      "           0       0.84      0.95      0.89      5873\n",
      "           1       0.65      0.35      0.46      1627\n",
      "\n",
      "    accuracy                           0.82      7500\n",
      "   macro avg       0.75      0.65      0.68      7500\n",
      "weighted avg       0.80      0.82      0.80      7500\n",
      "\n",
      "score is:  0.8192\n",
      "Cross Validation: {} [0.82266667 0.812      0.80666667 0.82666667 0.80733333]\n",
      "\n",
      "\n",
      "DEFAULT       0    1\n",
      "Predicted           \n",
      "0          1279  342\n",
      "1           191   42\n"
     ]
    },
    {
     "data": {
      "text/plain": [
       "1"
      ]
     },
     "execution_count": 87,
     "metadata": {},
     "output_type": "execute_result"
    }
   ],
   "source": [
    "#Accuracy is:  0.8176\n",
    "generate_accuracy_and_heatmap(rfecv_model, x_test_rfecv, y_test)\n"
   ]
  },
  {
   "cell_type": "code",
   "execution_count": 92,
   "metadata": {},
   "outputs": [
    {
     "name": "stdout",
     "output_type": "stream",
     "text": [
      "Accuracy is:  0.8226666666666667\n",
      "Classification Report:\n",
      "               precision    recall  f1-score   support\n",
      "\n",
      "           0       0.85      0.95      0.89      5873\n",
      "           1       0.66      0.38      0.48      1627\n",
      "\n",
      "    accuracy                           0.82      7500\n",
      "   macro avg       0.75      0.66      0.69      7500\n",
      "weighted avg       0.81      0.82      0.80      7500\n",
      "\n",
      "score is:  0.8226666666666667\n",
      "Cross Validation: {} [0.83333333 0.81666667 0.812      0.832      0.81466667]\n",
      "\n",
      "\n",
      "DEFAULT       0    1\n",
      "Predicted           \n",
      "0          1263  337\n",
      "1           207   47\n"
     ]
    },
    {
     "data": {
      "text/plain": [
       "1"
      ]
     },
     "execution_count": 92,
     "metadata": {},
     "output_type": "execute_result"
    }
   ],
   "source": [
    "#Accuracy is:  0.8226666666666667\n",
    "gbc_clf = GradientBoostingClassifier()\n",
    "gbc_model = gbc_clf.fit(x_train_rfecv, np.ravel(y_train))\n",
    "generate_accuracy_and_heatmap(gbc_model, x_test_rfecv, y_test)\n"
   ]
  },
  {
   "cell_type": "code",
   "execution_count": null,
   "metadata": {},
   "outputs": [],
   "source": []
  },
  {
   "cell_type": "code",
   "execution_count": null,
   "metadata": {},
   "outputs": [],
   "source": []
  }
 ],
 "metadata": {
  "kernelspec": {
   "display_name": "Python 3",
   "language": "python",
   "name": "python3"
  },
  "language_info": {
   "codemirror_mode": {
    "name": "ipython",
    "version": 3
   },
   "file_extension": ".py",
   "mimetype": "text/x-python",
   "name": "python",
   "nbconvert_exporter": "python",
   "pygments_lexer": "ipython3",
   "version": "3.7.6"
  }
 },
 "nbformat": 4,
 "nbformat_minor": 4
}
